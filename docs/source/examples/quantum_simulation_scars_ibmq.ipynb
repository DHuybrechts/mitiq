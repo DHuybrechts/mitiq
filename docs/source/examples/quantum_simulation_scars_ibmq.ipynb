{
 "cells": [
  {
   "cell_type": "code",
   "execution_count": 1,
   "id": "b19a8bbf-6bb0-4c18-bcb8-beadadbe60b0",
   "metadata": {},
   "outputs": [],
   "source": [
    "import qiskit\n",
    "from qiskit import QuantumCircuit\n",
    "\n",
    "from mitiq import zne\n",
    "from mitiq.interface.mitiq_qiskit.qiskit_utils import initialized_depolarizing_noise\n",
    "\n",
    "import time\n",
    "import numpy as np\n",
    "\n",
    "import matplotlib.pyplot as plt"
   ]
  },
  {
   "cell_type": "markdown",
   "id": "dd8c2015-afb1-4288-939e-f290ee097dda",
   "metadata": {},
   "source": [
    "# Use ZNE to simulate quantum many body scars with Qiskit on IBMQ backends"
   ]
  },
  {
   "cell_type": "markdown",
   "id": "b1f8858e-4b2f-471a-83db-972031c25028",
   "metadata": {},
   "source": [
    "This tutorial shows how to error mitigate a quantum simulation using ZNE, and is applied to a case where the dynamics show signs of quantum many body scars. The example is based on the model studied in https://arxiv.org/abs/2203.08291. That is, the Hamiltonian that is studied can be written in terms of Pauli matrices as follows\n",
    "\\begin{equation}\n",
    "H = H_{ZZ} + H_Z + H_X,\n",
    "\\end{equation}\n",
    "\\begin{equation}\n",
    "H = V\\sum_{i=1}^{L-1}Z_iZ_{i+1} - 2V \\sum_{i=2}^{L-1}Z_i - V(Z_1 + Z_L) + \\Omega\\sum_{i=1}^L X_i.\n",
    "\\end{equation}\n",
    "This is an Ising model with an Ising interaction strength $V$, with longitudinal field with strength proportional to $V$ and transverse field with strength proportional to $\\Omega$. Note that this Ising chain is defined with open boundary conditions, i.e. the strength of the field at the boundaries ($i = 1$ and $i = L$) is a factor 2 smaller than at the other sites of the chain. More information on the model can be found in the article."
   ]
  },
  {
   "cell_type": "markdown",
   "id": "4a0455a7-227e-4552-9cd3-782e7de36883",
   "metadata": {},
   "source": [
    "The dynamics of this model is governed by the Schrödinger equation\n",
    "\\begin{equation}\n",
    "\\frac{d}{dt}\\vert\\Psi(t)\\rangle = -i H\\vert\\Psi(t)\\rangle,\n",
    "\\end{equation}\n",
    "which can formally be solved as \n",
    "\\begin{equation}\n",
    "\\vert\\Psi(t + \\Delta t)\\rangle = e^{-i H\\Delta t}\\vert\\Psi(t)\\rangle = U(\\Delta t)\\vert\\Psi(t)\\rangle.\n",
    "\\end{equation}\n",
    "To simulate the dynamics using a gate sequence one performs a Trotter decomposition of this unitary operator, that is\n",
    "\\begin{equation}\n",
    "U(\\Delta t) \\approx e^{-iH_{ZZ}\\Delta t}e^{-iH_{Z}\\Delta t}e^{-iH_{X}\\Delta t},\n",
    "\\end{equation}\n",
    "which is a product of different unitary operators. Finally, one can express each of these unitary operators as a gate sequence of single-qubit gates or two-qubit gates that are subsequently applied."
   ]
  },
  {
   "cell_type": "markdown",
   "id": "44a5bab0-fe57-4779-8ecc-9a4515f43570",
   "metadata": {},
   "source": [
    "The resulting gate sequence is defined in the following function"
   ]
  },
  {
   "cell_type": "code",
   "execution_count": 2,
   "id": "7e8fd20f-71b1-41fa-aa69-8d9abdd222af",
   "metadata": {},
   "outputs": [],
   "source": [
    "def trotter_evolution_H(L, V, Omega, dt):\n",
    "    '''Return the circuit that performs a time step.\n",
    "    \n",
    "    Args:\n",
    "        L: Length of the Ising chain\n",
    "        V: Ising interaction strength\n",
    "        Omega: Transverse field strength\n",
    "        dt: Time step of unitary evolution\n",
    "    '''\n",
    "    \n",
    "    cq = qiskit.QuantumCircuit(L)        \n",
    "    \n",
    "    # Apply Rx gates:\n",
    "    for ii in range(L):\n",
    "        cq.rx(2*Omega*dt, ii)\n",
    "        \n",
    "        \n",
    "    # Apply Rz gates:\n",
    "    cq.rz(-2*V*dt, 0)\n",
    "    for ii in range(1, L-1):\n",
    "        cq.rz(-4*V*dt, ii)\n",
    "    cq.rz(-2*V*dt, L-1)\n",
    "    \n",
    "    \n",
    "    # Mitiq ZNE raises an error for the usage of rzz.\n",
    "    # We will give an explicit implementation of the \n",
    "    # 2-CNOT implementation of the Rzz gate:\n",
    "    for ii in range(1, L-1, 2):\n",
    "        cq.cnot(ii, ii+1)\n",
    "        cq.rz(2*V*dt, ii + 1)\n",
    "        cq.cnot(ii, ii+1)\n",
    "\n",
    "    for ii in range(0, L-1, 2):\n",
    "        cq.cnot(ii, ii+1)\n",
    "        cq.rz(2*V*dt, ii + 1)\n",
    "        cq.cnot(ii, ii+1)\n",
    "        \n",
    "\n",
    "    return cq"
   ]
  },
  {
   "cell_type": "markdown",
   "id": "d98d1dfe-778d-4edd-a0cc-f3a666e7d221",
   "metadata": {},
   "source": [
    "By subsequently applying this unitary operator (or its circuit equivalent), one (approximately) time evolves according to the system Hamiltonian.\n",
    "\n",
    "In this example we will limit ourselves to calculating the behaviour of the staggered magnetization in the $z$-direction. This is defined as \n",
    "\\begin{equation}\n",
    "Z_\\pi = \\sum_{i=1}^{L}(-1)^i Z_i.\n",
    "\\end{equation}\n",
    "The following function calculates the staggered z-magnetization for a given set of raw measurement counts"
   ]
  },
  {
   "cell_type": "code",
   "execution_count": 3,
   "id": "97124c5c-362e-4083-9a3e-65d8565a474c",
   "metadata": {},
   "outputs": [],
   "source": [
    "def staggered_mz(L, counts):\n",
    "    '''Calculate the staggered z-magneziton\n",
    "    \n",
    "    Args:\n",
    "    L: Length of the Ising chain\n",
    "    counts: raw measurement counts\n",
    "    '''\n",
    "    \n",
    "    sz = 0\n",
    "    ncounts = 0\n",
    "    \n",
    "    # We use (L-1)-ii since the state strings start with\n",
    "    # the last qubit and end with the first qubit.\n",
    "    stag = (-1)**(1 + np.array([(L-1)-ii for ii in range(L)]))\n",
    "    \n",
    "    for state, state_count in counts.items():\n",
    "        bit_array = np.array([-2*int(i)+1 for i in state])\n",
    "        ncounts += state_count\n",
    "        \n",
    "        sz += state_count*np.sum(stag*bit_array)\n",
    "        \n",
    "        \n",
    "    return sz/(ncounts*L)"
   ]
  },
  {
   "cell_type": "markdown",
   "id": "5656a831-6570-4ea5-b2df-31599aa28f51",
   "metadata": {},
   "source": [
    "For this tutorial we will not use real (quantum) hardware. If you do wish to do so, you can change the backends below to your desired backend. "
   ]
  },
  {
   "cell_type": "markdown",
   "id": "1d076980-b825-496f-b544-d93ef83cf13e",
   "metadata": {},
   "source": [
    "Note: Using an IBM quantum computer requires a valid IBMQ account. See https://quantum-computing.ibm.com/ for instructions to create an account, save credentials, and see online quantum computers."
   ]
  },
  {
   "cell_type": "code",
   "execution_count": 4,
   "id": "73e41786-16d9-4a7f-ba36-0bd3f044c2d5",
   "metadata": {},
   "outputs": [],
   "source": [
    "USE_REAL_HARDWARE = False"
   ]
  },
  {
   "cell_type": "code",
   "execution_count": 5,
   "id": "eaba3a64-c0f0-46e9-bde8-3c55daaa5f47",
   "metadata": {},
   "outputs": [],
   "source": [
    "#from qiskit_ibm_provider import IBMProvider\n",
    "#\n",
    "#if USE_REAL_HARDWARE:\n",
    "#    provider = IBMProvider(token=\"MY_IBM_QUANTUM_TOKEN\")   # Get the API token in https://quantum-computing.ibm.com/account\n",
    "#    backend = provider.get_backend(\"ibmq_qasm_simulator\")  # Set quantum computer here!\n",
    "#else:\n",
    "#    backend = qiskit.Aer.get_backend(\"qasm_simulator\")     # Default to a simulator."
   ]
  },
  {
   "cell_type": "code",
   "execution_count": 6,
   "id": "9f97a1ce-856f-41ff-b71b-a1bd1d2797de",
   "metadata": {},
   "outputs": [],
   "source": [
    "backend = qiskit.Aer.get_backend(\"qasm_simulator\")     # Default to a simulator."
   ]
  },
  {
   "cell_type": "markdown",
   "id": "bdbd8ef4-8406-4260-b27c-03fadf275145",
   "metadata": {},
   "source": [
    "We set up an executor that simulates the desired circuit a certain amount of shots and returns the measurement statistics of our desired expectation value in the following function"
   ]
  },
  {
   "cell_type": "code",
   "execution_count": 7,
   "id": "1b8cb97b-0234-43e5-952b-a547c99abda1",
   "metadata": {},
   "outputs": [],
   "source": [
    "def ibmq_executor(circuit: qiskit.QuantumCircuit, shots: int = 32768) -> float:\n",
    "    \"\"\"Returns the expectation value to be mitigated.\n",
    "\n",
    "    Args:\n",
    "        circuit: Circuit to run.\n",
    "        shots: Number of times to execute the circuit to compute the expectation value.\n",
    "    \"\"\"\n",
    "    if NO_NOISE:\n",
    "        # Simulate the circuit with noise\n",
    "        job = qiskit.execute(\n",
    "            experiments=circuit,\n",
    "            backend=qiskit.Aer.get_backend(\"qasm_simulator\"),\n",
    "            optimization_level=0,  # Important to preserve folded gates.\n",
    "            shots=shots,\n",
    "            )\n",
    "    else:\n",
    "        if USE_REAL_HARDWARE:\n",
    "            # Run the circuit on hardware\n",
    "            job = qiskit.execute(\n",
    "                experiments=circuit,\n",
    "                backend=backend,\n",
    "                optimization_level=0,  # Important to preserve folded gates.\n",
    "                shots=shots\n",
    "            )\n",
    "        else:\n",
    "            # Simulate the circuit with noise\n",
    "            noise_model = initialized_depolarizing_noise(noise_level=0.02)\n",
    "            job = qiskit.execute(\n",
    "                experiments=circuit,\n",
    "                backend=backend,\n",
    "                noise_model=noise_model,\n",
    "                basis_gates=noise_model.basis_gates,\n",
    "                optimization_level=0,  # Important to preserve folded gates.\n",
    "                shots=shots,\n",
    "            )\n",
    "\n",
    "    # Convert from raw measurement counts to the expectation value\n",
    "    counts = job.result().get_counts()\n",
    "    expectation_value = staggered_mz(L, counts)\n",
    "    \n",
    "    \n",
    "    return expectation_value\n"
   ]
  },
  {
   "cell_type": "markdown",
   "id": "f16c74ea-f665-41a0-b7bd-34e97ba6a208",
   "metadata": {},
   "source": [
    "We now have all necessary components to perform a time evolution of the Ising Hamiltonian. The Hamiltonian parameters used in the following are those used in the article to create Fig. 3 and 4 (https://arxiv.org/abs/2203.08291). However, in the following we will stick to a smaller Ising chain with 6 sites for the sake of simplicity. \n",
    "\n",
    "As an initial test we will time evolve the system over one time step $dt$ (you can change this by enlarging the parameter $n_{dt}$). The system is initialized in the Néel state, that is the $\\vert 010101\\rangle$ state. We simulate results with noise, and calculate the unmitigated and mitigated result. Additionally, we also calculate the result in case no noise is present in the system, that is, an ideal Trotted decomposed time evolution."
   ]
  },
  {
   "cell_type": "code",
   "execution_count": 8,
   "id": "8d8db757-882e-470b-9183-f56e3827ce1a",
   "metadata": {},
   "outputs": [],
   "source": [
    "# System parameters\n",
    "L = 6\n",
    "V = 1\n",
    "Omega = 0.24\n",
    "dt = 1\n",
    "n_dt = 1 #number of time steps"
   ]
  },
  {
   "cell_type": "code",
   "execution_count": 9,
   "id": "e121005f-44f8-4acf-a23c-712c85beea17",
   "metadata": {},
   "outputs": [],
   "source": [
    "# Initialise quantum circuit\n",
    "circuit = qiskit.QuantumCircuit(L) \n",
    "\n",
    "# Initialise time step quantum circuit\n",
    "cc = trotter_evolution_H(L, V, Omega, dt)\n",
    "\n",
    "# Initialise the Néel state |010101...>\n",
    "for ii in range(1,L,2):\n",
    "    circuit.x(ii)\n",
    "\n",
    "# Time evolve n_dt time steps\n",
    "for _ in range(n_dt):\n",
    "    circuit = circuit.compose(cc)\n",
    "\n",
    "# Measure in computational basis\n",
    "circuit.measure_all() "
   ]
  },
  {
   "cell_type": "code",
   "execution_count": 10,
   "id": "940514ea-600a-474f-ba03-961d1d3e6fc2",
   "metadata": {},
   "outputs": [],
   "source": [
    "NO_NOISE = False"
   ]
  },
  {
   "cell_type": "code",
   "execution_count": 11,
   "id": "5000f4f0-67fc-4941-9670-2023a9bfa1c3",
   "metadata": {},
   "outputs": [
    {
     "name": "stdout",
     "output_type": "stream",
     "text": [
      "Unmitigated result -0.807, after 0.2429s.\n"
     ]
    }
   ],
   "source": [
    "t1 = time.time()\n",
    "unmitigated = ibmq_executor(circuit)\n",
    "t2 = time.time()\n",
    "print(f\"Unmitigated result {unmitigated:.3f}, after {t2-t1:.4f}s.\")"
   ]
  },
  {
   "cell_type": "code",
   "execution_count": 12,
   "id": "8768e017-9568-446f-b938-cff5d4bca625",
   "metadata": {},
   "outputs": [
    {
     "name": "stdout",
     "output_type": "stream",
     "text": [
      "Mitigated result -0.874, after 0.4148s.\n"
     ]
    }
   ],
   "source": [
    "t1 = time.time()\n",
    "mitigated = zne.execute_with_zne(circuit, ibmq_executor)\n",
    "t2 = time.time()\n",
    "print(f\"Mitigated result {mitigated:.3f}, after {t2-t1:.4f}s.\")"
   ]
  },
  {
   "cell_type": "code",
   "execution_count": 13,
   "id": "2530f5c9-4947-4eb4-ab02-caf2b69015d3",
   "metadata": {},
   "outputs": [
    {
     "name": "stdout",
     "output_type": "stream",
     "text": [
      "No noise result -0.888, after 0.0782s.\n"
     ]
    }
   ],
   "source": [
    "NO_NOISE = True\n",
    "t1 = time.time()\n",
    "unmitigated = ibmq_executor(circuit)\n",
    "t2 = time.time()\n",
    "print(f\"No noise result {unmitigated:.3f}, after {t2-t1:.4f}s.\")"
   ]
  },
  {
   "cell_type": "markdown",
   "id": "6d7944d0-4139-407e-82e7-61e4957371b7",
   "metadata": {},
   "source": [
    "# Create a time evolution plot up to a certain time"
   ]
  },
  {
   "cell_type": "markdown",
   "id": "9934e7b9-c192-45df-ba7b-e0138bdae8dc",
   "metadata": {},
   "source": [
    "Finally, we will simulate the time evolution of the system up to various times to create a figure of the behaviour of the staggered $z$-magnetization throughout time. The system is initialized in the Néel state and we time evolve for a maximum of $n_{dt} = 40$ steps."
   ]
  },
  {
   "cell_type": "code",
   "execution_count": 14,
   "id": "57c1efd9-808d-4e7a-9866-e48dfa431248",
   "metadata": {},
   "outputs": [
    {
     "data": {
      "image/png": "[encoded data removed]",
      "text/plain": [
       "<Figure size 640x480 with 1 Axes>"
      ]
     },
     "metadata": {},
     "output_type": "display_data"
    }
   ],
   "source": [
    "# System parameters\n",
    "L = 6\n",
    "V = 1\n",
    "Omega = 0.24\n",
    "dt = 1\n",
    "n_dt = 40\n",
    "\n",
    "\n",
    "unmitigated_list = []\n",
    "mitigated_list = []\n",
    "nonoise_list = []\n",
    "\n",
    "# Results for t = 0:\n",
    "# Initialise quantum circuit\n",
    "circuit = qiskit.QuantumCircuit(L) \n",
    "\n",
    "# Initialise the Néel state |010101...>\n",
    "for ii in range(1,L,2):\n",
    "    circuit.x(ii)\n",
    "\n",
    "# Measure in computational basis\n",
    "circuit.measure_all() \n",
    "\n",
    "# Run circuit on the backends\n",
    "NO_NOISE = False\n",
    "unmitigated = ibmq_executor(circuit)\n",
    "mitigated = zne.execute_with_zne(circuit, ibmq_executor)\n",
    "\n",
    "NO_NOISE = True\n",
    "nonoise = ibmq_executor(circuit)\n",
    "\n",
    "\n",
    "# Store results\n",
    "unmitigated_list.append(unmitigated)\n",
    "mitigated_list.append(mitigated)\n",
    "nonoise_list.append(nonoise)\n",
    "\n",
    "\n",
    "# Results for t > 0:\n",
    "for ndt in range(1, n_dt + 1):\n",
    "    # Initialise quantum circuit\n",
    "    circuit = qiskit.QuantumCircuit(L) \n",
    "\n",
    "    # Initialise time step quantum circuit\n",
    "    cc = trotter_evolution_H(L, V, Omega, dt)\n",
    "\n",
    "    # Initialise the Néel state |010101...>\n",
    "    for ii in range(1,L,2):\n",
    "        circuit.x(ii)\n",
    "\n",
    "    # Time evolve n_dt time steps\n",
    "    for _ in range(ndt):\n",
    "        circuit = circuit.compose(cc)\n",
    "\n",
    "    # Measure in computational basis\n",
    "    circuit.measure_all() \n",
    "    \n",
    "    # Run circuit on the backends\n",
    "    NO_NOISE = False\n",
    "    unmitigated = ibmq_executor(circuit)\n",
    "    mitigated = zne.execute_with_zne(circuit, ibmq_executor)\n",
    "\n",
    "    NO_NOISE = True\n",
    "    nonoise = ibmq_executor(circuit)\n",
    "    \n",
    "    \n",
    "    # Store results    \n",
    "    unmitigated_list.append(unmitigated)\n",
    "    mitigated_list.append(mitigated)\n",
    "    nonoise_list.append(nonoise)\n",
    "    \n",
    "    \n",
    "# Creation of the figure\n",
    "time_list = np.arange(0, n_dt + 1, 1)\n",
    "\n",
    "plt.figure()\n",
    "plt.plot(time_list, unmitigated_list,marker =\".\", c=\"r\", linestyle =\":\", label = \"Unmitigated\")\n",
    "plt.plot(time_list, mitigated_list, marker = \".\", linestyle =\"--\", label = \"Mitigated (ZNE)\")\n",
    "plt.plot(time_list, nonoise_list, marker = '.', c=\"k\", label = \"Ideal Trotter\")\n",
    "\n",
    "plt.xlim([time_list[0], time_list[-1]])\n",
    "plt.xlabel(r\"$Vt$\")\n",
    "plt.ylabel(r\"$<Z_\\pi>/L$\")\n",
    "plt.legend()\n",
    "plt.show()"
   ]
  },
  {
   "cell_type": "code",
   "execution_count": null,
   "id": "11ebdc52-902d-4b33-aa1e-79cf884b543a",
   "metadata": {},
   "outputs": [],
   "source": []
  }
 ],
 "metadata": {
  "kernelspec": {
   "display_name": "Python 3 (ipykernel)",
   "language": "python",
   "name": "python3"
  },
  "language_info": {
   "codemirror_mode": {
    "name": "ipython",
    "version": 3
   },
   "file_extension": ".py",
   "mimetype": "text/x-python",
   "name": "python",
   "nbconvert_exporter": "python",
   "pygments_lexer": "ipython3",
   "version": "3.11.3"
  }
 },
 "nbformat": 4,
 "nbformat_minor": 5
}
